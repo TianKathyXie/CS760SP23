{
  "cells": [
    {
      "cell_type": "code",
      "source": [
        "import numpy as np\n",
        "from google.colab import drive\n",
        "drive.mount('/content/drive')\n",
        "import os\n",
        "path = '/content/drive/My Drive/Colab Notebooks/CS760/hw4/languageID'\n",
        "  \n",
        "# Change the directory\n",
        "os.chdir(path)\n",
        "  \n",
        "i = 0\n",
        "x = [[]]\n",
        "y = [[]]\n",
        "for file in os.listdir():\n",
        "    if file.endswith(\".txt\"):\n",
        "        file_path = f\"{path}/{file}\"\n",
        "        with open(file_path, 'r') as f:\n",
        "          x = np.append(x, f.read())\n",
        "          y = np.append(y, file)"
      ],
      "metadata": {
        "colab": {
          "base_uri": "https://localhost:8080/"
        },
        "id": "Dsxdqe2XqOUw",
        "outputId": "e685347f-399e-47f1-ebe1-381edeff852c"
      },
      "execution_count": null,
      "outputs": [
        {
          "output_type": "stream",
          "name": "stdout",
          "text": [
            "Drive already mounted at /content/drive; to attempt to forcibly remount, call drive.mount(\"/content/drive\", force_remount=True).\n"
          ]
        }
      ]
    },
    {
      "cell_type": "markdown",
      "source": [
        "Language Identification \n",
        "2-3."
      ],
      "metadata": {
        "id": "fl5jPWAt49Tm"
      }
    },
    {
      "cell_type": "code",
      "source": [
        "num_letters_e = np.zeros(27)\n",
        "tot_num_e = 0"
      ],
      "metadata": {
        "id": "z32aFVUYrGsM"
      },
      "execution_count": null,
      "outputs": []
    },
    {
      "cell_type": "code",
      "source": [
        "from string import ascii_lowercase\n",
        "for i in range(60):\n",
        "  if y[i][0] == 'e':\n",
        "    if y[i][1] !='1' or y[i] == 'e1.txt':\n",
        "      for c in x[i]:\n",
        "        for c1 in ascii_lowercase:\n",
        "          if c == c1:\n",
        "            num_letters_e[ord(c)-ord('a')]+=1\n",
        "            tot_num_e+=1\n",
        "            break;\n",
        "        if c == ' ':\n",
        "          num_letters_e[-1]+=1\n",
        "          tot_num_e+=1"
      ],
      "metadata": {
        "id": "i40fUnhWyKCU"
      },
      "execution_count": null,
      "outputs": []
    },
    {
      "cell_type": "code",
      "source": [
        "theta_e = (num_letters_e+0.5)/(tot_num_e+27*0.5)"
      ],
      "metadata": {
        "id": "-4rw-9PkqPvx"
      },
      "execution_count": null,
      "outputs": []
    },
    {
      "cell_type": "code",
      "source": [
        "num_letters_j = np.zeros(27)\n",
        "tot_num_j = 0\n",
        "for i in range(60):\n",
        "  if y[i][0] == 'j':\n",
        "    if y[i][1] !='1' or y[i] == 'j1.txt':\n",
        "      for c in x[i]:\n",
        "        for c1 in ascii_lowercase:\n",
        "          if c == c1:\n",
        "            num_letters_j[ord(c)-ord('a')]+=1\n",
        "            tot_num_j+=1\n",
        "            break;\n",
        "        if c == ' ':\n",
        "          num_letters_j[-1]+=1\n",
        "          tot_num_j+=1\n",
        "theta_j = (num_letters_j+0.5)/(tot_num_j+27*0.5)"
      ],
      "metadata": {
        "id": "UTLVuEvErGGr"
      },
      "execution_count": null,
      "outputs": []
    },
    {
      "cell_type": "code",
      "source": [
        "num_letters_s = np.zeros(27)\n",
        "tot_num_s = 0\n",
        "for i in range(60):\n",
        "  if y[i][0] == 's':\n",
        "    if y[i][1] !='1' or y[i] == 's1.txt':\n",
        "      for c in x[i]:\n",
        "        for c1 in ascii_lowercase:\n",
        "          if c == c1:\n",
        "            num_letters_s[ord(c)-ord('a')]+=1\n",
        "            tot_num_s+=1\n",
        "            break;\n",
        "        if c == ' ':\n",
        "          num_letters_s[-1]+=1\n",
        "          tot_num_s+=1\n",
        "theta_s = (num_letters_s+0.5)/(tot_num_s+27*0.5)"
      ],
      "metadata": {
        "id": "ZCguIYWUqPyP"
      },
      "execution_count": null,
      "outputs": []
    },
    {
      "cell_type": "code",
      "source": [
        "print(theta_e)\n",
        "map(float, theta_j)\n",
        "print(theta_s)"
      ],
      "metadata": {
        "colab": {
          "base_uri": "https://localhost:8080/"
        },
        "id": "YGRVDNlhqP0l",
        "outputId": "e51c1fd3-d8a9-4a84-8d36-74c8e3fcfcfe"
      },
      "execution_count": null,
      "outputs": [
        {
          "output_type": "stream",
          "name": "stdout",
          "text": [
            "[0.06016851 0.01113497 0.02151    0.02197258 0.10536924 0.01893276\n",
            " 0.01747894 0.04721626 0.05541054 0.00142078 0.00373369 0.02897737\n",
            " 0.02051875 0.05792169 0.0644639  0.01675202 0.0005617  0.05382455\n",
            " 0.06618206 0.08012556 0.02666446 0.00928465 0.01549645 0.00115645\n",
            " 0.01384437 0.00062779 0.17924996]\n",
            "[1.04560451e-01 8.23286362e-03 3.75258241e-02 3.97459221e-02\n",
            " 1.13810860e-01 8.60287996e-03 7.18448398e-03 4.53270019e-03\n",
            " 4.98597021e-02 6.62945947e-03 2.77512257e-04 5.29431717e-02\n",
            " 2.58086399e-02 5.41765595e-02 7.24923684e-02 2.42669051e-02\n",
            " 7.67783910e-03 5.92951189e-02 6.57704049e-02 3.56140730e-02\n",
            " 3.37023219e-02 5.88942678e-03 9.25040856e-05 2.49761031e-03\n",
            " 7.86284728e-03 2.68261848e-03 1.68264932e-01]\n"
          ]
        }
      ]
    },
    {
      "cell_type": "markdown",
      "source": [
        "4."
      ],
      "metadata": {
        "id": "mON9SLDo5ERr"
      }
    },
    {
      "cell_type": "code",
      "source": [
        "x_e10 = np.zeros(27)\n",
        "tot_num_e10 = 0\n",
        "for i in range(60):\n",
        "  if y[i] == 'e1.txt':\n",
        "    for c in x[i]:\n",
        "      for c1 in ascii_lowercase:\n",
        "        if c == c1:\n",
        "          x_e10[ord(c)-ord('a')]+=1\n",
        "          tot_num_e10+=1\n",
        "          break;\n",
        "      if c == ' ':\n",
        "        x_e10[-1]+=1\n",
        "        tot_num_e10+=1\n",
        "bag_e10 = (x_e10+0.5)/(tot_num_e10+27*0.5)"
      ],
      "metadata": {
        "id": "Fud68NkVqP3b"
      },
      "execution_count": null,
      "outputs": []
    },
    {
      "cell_type": "markdown",
      "source": [
        "5"
      ],
      "metadata": {
        "id": "1L10IDVZ6s0l"
      }
    },
    {
      "cell_type": "code",
      "source": [
        "p_e_e10 = pow(theta_e[0], bag_e10[0])\n",
        "for i in range(1,27):\n",
        "  p_e_e10*=pow(theta_e[i], bag_e10[i])\n"
      ],
      "metadata": {
        "id": "I7lijaGd52k7"
      },
      "execution_count": null,
      "outputs": []
    },
    {
      "cell_type": "code",
      "source": [
        "p_e_e10"
      ],
      "metadata": {
        "colab": {
          "base_uri": "https://localhost:8080/"
        },
        "id": "Um5OMvI-6OGt",
        "outputId": "7e4c459d-9bf8-4c78-a46c-fa9e6f73c96d"
      },
      "execution_count": null,
      "outputs": [
        {
          "output_type": "execute_result",
          "data": {
            "text/plain": [
              "0.06173162954814634"
            ]
          },
          "metadata": {},
          "execution_count": 91
        }
      ]
    },
    {
      "cell_type": "code",
      "source": [
        "p_j_e10 = pow(theta_j[0], bag_e10[0])\n",
        "for i in range(1,27):\n",
        "  p_j_e10*=pow(theta_j[i], bag_e10[i])\n",
        "p_j_e10"
      ],
      "metadata": {
        "colab": {
          "base_uri": "https://localhost:8080/"
        },
        "id": "yeUuvsIB6WRz",
        "outputId": "98d14684-434c-4edb-f4c3-5a767bf0d118"
      },
      "execution_count": null,
      "outputs": [
        {
          "output_type": "execute_result",
          "data": {
            "text/plain": [
              "0.048239967264103865"
            ]
          },
          "metadata": {},
          "execution_count": 93
        }
      ]
    },
    {
      "cell_type": "code",
      "source": [
        "p_s_e10 = pow(theta_s[0], bag_e10[0])\n",
        "for i in range(1,27):\n",
        "  p_s_e10*=pow(theta_s[i], bag_e10[i])\n",
        "p_s_e10"
      ],
      "metadata": {
        "colab": {
          "base_uri": "https://localhost:8080/"
        },
        "id": "mZGmogQF6ZHJ",
        "outputId": "06fc75e0-7034-45ba-fe3a-a91186be14af"
      },
      "execution_count": null,
      "outputs": [
        {
          "output_type": "execute_result",
          "data": {
            "text/plain": [
              "0.05007817663303292"
            ]
          },
          "metadata": {},
          "execution_count": 94
        }
      ]
    },
    {
      "cell_type": "code",
      "source": [
        "tot = 0.06173162954814634+0.048239967264103865+0.05007817663303292\n",
        "print(0.06173162954814634/tot)\n",
        "print(0.048239967264103865/tot)\n",
        "print(0.05007817663303292/tot)"
      ],
      "metadata": {
        "colab": {
          "base_uri": "https://localhost:8080/"
        },
        "id": "p_IMv40e9uDQ",
        "outputId": "9fc1d14f-68b6-4981-c9ae-9ebb3e0f9203"
      },
      "execution_count": null,
      "outputs": [
        {
          "output_type": "stream",
          "name": "stdout",
          "text": [
            "0.38570269872484875\n",
            "0.30140603279639044\n",
            "0.3128912684787608\n"
          ]
        }
      ]
    },
    {
      "cell_type": "markdown",
      "source": [
        "7. "
      ],
      "metadata": {
        "id": "GwylSFsbWClf"
      }
    },
    {
      "cell_type": "code",
      "source": [
        "def prob(a,b):\n",
        "  res = pow(a[0], b[0])\n",
        "  for i in range(1, 27):\n",
        "    res *= pow(a[i], b[i])\n",
        "  return res"
      ],
      "metadata": {
        "id": "9fQki3Te-YAt"
      },
      "execution_count": null,
      "outputs": []
    },
    {
      "cell_type": "code",
      "source": [
        "conf_matrix = [[0,0,0],[0,0,0],[0,0,0]]\n",
        "for i in range(60):\n",
        "  if y[i][1] =='1' and y[i] != 'j1.txt' and y[i] != 's1.txt' and y[i] != 'e1.txt' :\n",
        "    num_vec = np.zeros(27)\n",
        "    tot_num = 0\n",
        "    for c in x[i]:\n",
        "      for c1 in ascii_lowercase:\n",
        "        if c == c1:\n",
        "          num_vec[ord(c)-ord('a')]+=1\n",
        "          tot_num+=1\n",
        "          break;\n",
        "      if c == ' ':\n",
        "        num_vec[-1]+=1\n",
        "        tot_num+=1\n",
        "    num_vec = (num_vec+0.5)/(tot_num+27*0.5)\n",
        "    #print(y[i])\n",
        "    index_max = np.argmax([prob(theta_e, num_vec), prob(theta_j, num_vec), prob(theta_s, num_vec)])\n",
        "    #print(index_max)\n",
        "    if y[i][0] == 'e' and index_max == 0:\n",
        "      conf_matrix[0][0]+=1\n",
        "    if y[i][0] == 'e' and index_max == 1:\n",
        "      conf_matrix[1][0]+=1\n",
        "    if y[i][0] == 'e' and index_max == 2:\n",
        "      conf_matrix[2][0]+=1\n",
        "    if y[i][0] == 'j' and index_max == 0:\n",
        "      conf_matrix[0][1]+=1\n",
        "    if y[i][0] == 'j' and index_max == 1:\n",
        "      conf_matrix[1][1]+=1\n",
        "    if y[i][0] == 'j' and index_max == 2:\n",
        "      conf_matrix[2][1]+=1\n",
        "    if y[i][0] == 's' and index_max == 0:\n",
        "      conf_matrix[0][2]+=1\n",
        "    if y[i][0] == 's' and index_max == 1:\n",
        "      conf_matrix[1][2]+=1\n",
        "    if y[i][0] == 's' and index_max == 2:\n",
        "      conf_matrix[2][2]+=1\n",
        "conf_matrix"
      ],
      "metadata": {
        "colab": {
          "base_uri": "https://localhost:8080/"
        },
        "id": "K1gCHzua-YC_",
        "outputId": "95bdafc2-4f4b-45e3-8bd8-9942a8f08e37"
      },
      "execution_count": null,
      "outputs": [
        {
          "output_type": "execute_result",
          "data": {
            "text/plain": [
              "[[10, 0, 0], [0, 10, 0], [0, 0, 10]]"
            ]
          },
          "metadata": {},
          "execution_count": 103
        }
      ]
    },
    {
      "cell_type": "markdown",
      "source": [
        "Neutral Network"
      ],
      "metadata": {
        "id": "w4AdHzFv9dBj"
      }
    },
    {
      "cell_type": "code",
      "source": [
        "from tensorflow.keras.datasets import mnist\n",
        "(X_train, Y_train), (X_test, Y_test) = mnist.load_data()"
      ],
      "metadata": {
        "id": "5rz_55sa-YFQ",
        "colab": {
          "base_uri": "https://localhost:8080/"
        },
        "outputId": "95a26188-4ad7-4485-cb0b-7bb0dcc52967"
      },
      "execution_count": null,
      "outputs": [
        {
          "output_type": "stream",
          "name": "stdout",
          "text": [
            "Downloading data from https://storage.googleapis.com/tensorflow/tf-keras-datasets/mnist.npz\n",
            "11490434/11490434 [==============================] - 0s 0us/step\n"
          ]
        }
      ]
    },
    {
      "cell_type": "code",
      "source": [
        "import math\n",
        "def sigmoid(x):\n",
        "  # http://timvieira.github.io/blog/post/2014/02/11/exp-normalize-trick/\n",
        "  \n",
        "  x = np.clip(x, -500, 500) \n",
        "  \n",
        "  return np.where(\n",
        "    x >= 0,\n",
        "    1 / (1 + np.exp(-x)),\n",
        "    np.exp(x) / (1 + np.exp(x))\n",
        "  )"
      ],
      "metadata": {
        "id": "I_y5m_Mx-YH1"
      },
      "execution_count": 154,
      "outputs": []
    },
    {
      "cell_type": "code",
      "source": [
        "from numpy import exp\n",
        "def softmax(vector):\n",
        " e = exp(vector)\n",
        " return e / e.sum()\n",
        "def one_hot(x):\n",
        "  res = np.zeros(10)\n",
        "  res[x] = 1\n",
        "  return res"
      ],
      "metadata": {
        "id": "wVowfKUJ-YJ8"
      },
      "execution_count": 59,
      "outputs": []
    },
    {
      "cell_type": "code",
      "source": [
        "def entropy_loss(y, yhat):\n",
        "  return -np.sum(y * np.log(yhat))"
      ],
      "metadata": {
        "id": "ocReA1sed4HT"
      },
      "execution_count": 62,
      "outputs": []
    },
    {
      "cell_type": "code",
      "source": [
        "import random\n",
        "w1 = np.random.rand(32,28*28)\n",
        "w2 = np.random.rand(32, 32)\n",
        "w3 = np.random.rand(10, 32)"
      ],
      "metadata": {
        "id": "WIeAvNeqYerf"
      },
      "execution_count": 167,
      "outputs": []
    },
    {
      "cell_type": "code",
      "source": [
        "weights = [w1, w2, w3]"
      ],
      "metadata": {
        "id": "LdakXAOjdAq8"
      },
      "execution_count": 168,
      "outputs": []
    },
    {
      "cell_type": "code",
      "source": [
        "def feed_forward_sample(sample, label):\n",
        "  temp = sample.flatten()\n",
        "  for index, w in enumerate(weights):\n",
        "    z = np.matmul(w, temp)\n",
        "    if index < len(weights) - 1:\n",
        "      temp = sigmoid(z)\n",
        "    else:\n",
        "      temp = softmax(z)\n",
        "  onehot_y = one_hot(label)\n",
        "  loss = entropy_loss(onehot_y, temp)\n",
        "\n",
        "  index = np.argmax(temp)\n",
        "  temp[index] = 1\n",
        "  for i in range(10):\n",
        "    if i!=index:\n",
        "      temp[i] = 0\n",
        "  return loss, temp"
      ],
      "metadata": {
        "id": "mfPc8U0icxzD"
      },
      "execution_count": 169,
      "outputs": []
    },
    {
      "cell_type": "code",
      "source": [
        "def feed_forward_all(x, y):\n",
        "  datasize = x.shape[0]\n",
        "  losses = np.empty(datasize)\n",
        "  one_hot_guesses = np.empty((datasize, 10))\n",
        "  for i in range(datasize):\n",
        "    losses[i], one_hot_guesses[i] = feed_forward_sample(x[i], y[i])\n",
        "  y_one_hot = np.zeros((datasize, 10))\n",
        "  y_one_hot[np.arange(datasize), y] = 1\n",
        "\n",
        "  correct_guesses = np.sum(y_one_hot * one_hot_guesses)\n",
        "  correct_guess_percent = format((correct_guesses / datasize) * 100, \".2f\")\n",
        "  print(\"Accuracy: \", correct_guesses, \"/\", datasize, \"(\", correct_guess_percent, \"%)\")\n",
        "  "
      ],
      "metadata": {
        "id": "1-dNJzGWgXGq"
      },
      "execution_count": 170,
      "outputs": []
    },
    {
      "cell_type": "code",
      "source": [
        "feed_forward_all(X_train, Y_train)"
      ],
      "metadata": {
        "colab": {
          "base_uri": "https://localhost:8080/"
        },
        "id": "x7i52e5fgXIm",
        "outputId": "57c1beb8-0016-450d-ce89-ca525179bf5c"
      },
      "execution_count": 171,
      "outputs": [
        {
          "output_type": "stream",
          "name": "stdout",
          "text": [
            "Accuracy:  5923.0 / 60000 ( 9.87 %)\n"
          ]
        }
      ]
    },
    {
      "cell_type": "code",
      "source": [
        "def dsigmoid(x): # Derivative of sigmoid\n",
        "  return sigmoid(x) * (1 - sigmoid(x))"
      ],
      "metadata": {
        "id": "95VSdPh6plSG"
      },
      "execution_count": 172,
      "outputs": []
    },
    {
      "cell_type": "code",
      "source": [
        "def train_sample(sample, y, step):\n",
        "  a = sample.flatten()\n",
        "  activations=[]\n",
        "  for i, w in enumerate(weights): \n",
        "    z = np.matmul(w, a) \n",
        "    if (i <= 1):\n",
        "      a = sigmoid(z)\n",
        "    else:  \n",
        "      a = softmax(z) \n",
        "    activations.append(a)\n",
        "\n",
        "  one_hot_y = one_hot(y)\n",
        "\n",
        "  one_hot_guess = np.zeros(10)\n",
        "  index = np.argmax(a)\n",
        "  one_hot_guess[index] = 1\n",
        "\n",
        "  correct_guess = (np.sum(one_hot_y * one_hot_guess) == 1)\n",
        "\n",
        "  weight_gradients = [None] * 3\n",
        "  bias_gradients = [None] * 3\n",
        "  activation_gradients = [None] * 2\n",
        "  \n",
        "  for i in range(2, -1, -1): \n",
        "    if i == 2:\n",
        "      y = one_hot_y[:, np.newaxis]\n",
        "      a = activations[i][:, np.newaxis]\n",
        "      a_prev = np.array(activations[i-1])[:, np.newaxis]\n",
        "\n",
        "      weight_gradients[i] = np.dot(np.array(a - y), a_prev.T)\n",
        "\n",
        "    else:\n",
        "      w_next = weights[i+1]\n",
        "      a_next = activations[i + 1][:, np.newaxis]\n",
        "      y = one_hot_y[:, np.newaxis]\n",
        "      a = np.array(activations[i])[:, np.newaxis]\n",
        "      if i > 0:\n",
        "        a_prev = np.array(activations[i-1])[:, np.newaxis]\n",
        "      else:\n",
        "        a_prev = sample.flatten()[:, np.newaxis]\n",
        "\n",
        "      if i == 1:\n",
        "        dCda = np.matmul(w_next.T, (a_next - y))\n",
        "        activation_gradients[i] = dCda\n",
        "      else:\n",
        "        dCda_next = activation_gradients[i+1]\n",
        "        Cda = np.matmul(w_next.T, (dsigmoid(a_next) * dCda_next))\n",
        "        activation_gradients[i] = dCda\n",
        "\n",
        "      x = dsigmoid(a) * dCda\n",
        "      weight_gradients[i] = np.dot(np.array(x), np.array(a_prev).T)\n",
        "\n",
        "    weights[i] -= weight_gradients[i] * step\n",
        "\n",
        "\n"
      ],
      "metadata": {
        "id": "Ggim6HSpgXKt"
      },
      "execution_count": 173,
      "outputs": []
    },
    {
      "cell_type": "code",
      "source": [
        "train_sample(X_train[0], Y_train[0], 0.005)"
      ],
      "metadata": {
        "id": "PL67FCjMgXMs"
      },
      "execution_count": 174,
      "outputs": []
    },
    {
      "cell_type": "code",
      "source": [
        "import random\n",
        "\n",
        "for i in range(20):\n",
        "  for j in range(256):\n",
        "    num = random.sample(range(60000), 1)\n",
        "    train_sample(X_train[num], Y_train[num], 0.005)"
      ],
      "metadata": {
        "id": "y-NOzS81gXOo"
      },
      "execution_count": 178,
      "outputs": []
    },
    {
      "cell_type": "code",
      "source": [
        "feed_forward_all(X_train, Y_train)"
      ],
      "metadata": {
        "colab": {
          "base_uri": "https://localhost:8080/"
        },
        "id": "yM0xVFEMgXRB",
        "outputId": "45d911b1-bec5-41ad-cb7c-3fe85f2daa73"
      },
      "execution_count": 179,
      "outputs": [
        {
          "output_type": "stream",
          "name": "stdout",
          "text": [
            "Accuracy:  6516.0 / 60000 ( 10.86 %)\n"
          ]
        }
      ]
    },
    {
      "cell_type": "code",
      "source": [
        "for i in range(200):\n",
        "  for j in range(256):\n",
        "    num = random.sample(range(60000), 1)\n",
        "    train_sample(X_train[num], Y_train[num], 0.005)\n",
        "  if i%20 == 0:\n",
        "    feed_forward_all(X_train, Y_train)"
      ],
      "metadata": {
        "colab": {
          "base_uri": "https://localhost:8080/"
        },
        "id": "Qi_V0PTFer4C",
        "outputId": "09ff9a25-ffcb-40af-b592-f7f37c54632e"
      },
      "execution_count": 180,
      "outputs": [
        {
          "output_type": "stream",
          "name": "stdout",
          "text": [
            "Accuracy:  6211.0 / 60000 ( 10.35 %)\n",
            "Accuracy:  7406.0 / 60000 ( 12.34 %)\n",
            "Accuracy:  24949.0 / 60000 ( 41.58 %)\n",
            "Accuracy:  29428.0 / 60000 ( 49.05 %)\n",
            "Accuracy:  37906.0 / 60000 ( 63.18 %)\n",
            "Accuracy:  40449.0 / 60000 ( 67.42 %)\n",
            "Accuracy:  43233.0 / 60000 ( 72.06 %)\n",
            "Accuracy:  44431.0 / 60000 ( 74.05 %)\n",
            "Accuracy:  45192.0 / 60000 ( 75.32 %)\n",
            "Accuracy:  45535.0 / 60000 ( 75.89 %)\n"
          ]
        }
      ]
    },
    {
      "cell_type": "code",
      "source": [
        "for i in range(200):\n",
        "  for j in range(256):\n",
        "    num = random.sample(range(60000), 1)\n",
        "    train_sample(X_train[num], Y_train[num], 0.005)\n",
        "  if i%20 == 0:\n",
        "    feed_forward_all(X_train, Y_train)"
      ],
      "metadata": {
        "colab": {
          "base_uri": "https://localhost:8080/"
        },
        "id": "x70UYKzPYetL",
        "outputId": "ead5919f-cab5-4fc2-b5d4-7bb2887d5785"
      },
      "execution_count": 181,
      "outputs": [
        {
          "output_type": "stream",
          "name": "stdout",
          "text": [
            "Accuracy:  45915.0 / 60000 ( 76.53 %)\n",
            "Accuracy:  46734.0 / 60000 ( 77.89 %)\n",
            "Accuracy:  47000.0 / 60000 ( 78.33 %)\n",
            "Accuracy:  47278.0 / 60000 ( 78.80 %)\n",
            "Accuracy:  47717.0 / 60000 ( 79.53 %)\n",
            "Accuracy:  48009.0 / 60000 ( 80.02 %)\n",
            "Accuracy:  48064.0 / 60000 ( 80.11 %)\n",
            "Accuracy:  48283.0 / 60000 ( 80.47 %)\n",
            "Accuracy:  48380.0 / 60000 ( 80.63 %)\n",
            "Accuracy:  48801.0 / 60000 ( 81.34 %)\n"
          ]
        }
      ]
    },
    {
      "cell_type": "code",
      "source": [
        "from matplotlib import pyplot as plt\n",
        "plt.plot([0.1035, 0.1234, 0.4158,  0.4905,0.6318,0.6742,0.7206, 0.7405, 0.7532, 0.7589, 0.7653, 0.7789, 0.7833, 0.7880, 0.7953, 0.8002, 0.8011, 0.8047, 0.8063, 0.8134])"
      ],
      "metadata": {
        "id": "2QhxZfkF-YMj",
        "colab": {
          "base_uri": "https://localhost:8080/",
          "height": 282
        },
        "outputId": "4099c8e4-51a0-4a59-85c2-48a8bef0d4f8"
      },
      "execution_count": 191,
      "outputs": [
        {
          "output_type": "execute_result",
          "data": {
            "text/plain": [
              "[<matplotlib.lines.Line2D at 0x7fb84ac4cd90>]"
            ]
          },
          "metadata": {},
          "execution_count": 191
        },
        {
          "output_type": "display_data",
          "data": {
            "text/plain": [
              "<Figure size 432x288 with 1 Axes>"
            ],
            "image/png": "[encoded data removed]"
          },
          "metadata": {
            "needs_background": "light"
          }
        }
      ]
    },
    {
      "cell_type": "code",
      "source": [
        "feed_forward_all(X_test, Y_test)"
      ],
      "metadata": {
        "colab": {
          "base_uri": "https://localhost:8080/"
        },
        "id": "w-2Ec93J3oQL",
        "outputId": "2eb046c0-f6ff-405a-87c1-7e580759b216"
      },
      "execution_count": 190,
      "outputs": [
        {
          "output_type": "stream",
          "name": "stdout",
          "text": [
            "Accuracy:  8125.0 / 10000 ( 81.25 %)\n"
          ]
        }
      ]
    },
    {
      "cell_type": "markdown",
      "source": [
        "Use Tensorflow"
      ],
      "metadata": {
        "id": "rWmAa4Xq3t2_"
      }
    },
    {
      "cell_type": "code",
      "source": [
        "import tensorflow as tf\n",
        "import tensorflow_datasets as tfds\n",
        "(ds_train, ds_test), ds_info = tfds.load(\n",
        "    'mnist',\n",
        "    split=['train', 'test'],\n",
        "    shuffle_files=True,\n",
        "    as_supervised=True,\n",
        "    with_info=True,\n",
        ")"
      ],
      "metadata": {
        "id": "irzZsoXe3wS3"
      },
      "execution_count": 196,
      "outputs": []
    },
    {
      "cell_type": "code",
      "source": [
        "def normalize_img(image, label):\n",
        "  \"\"\"Normalizes images: `uint8` -> `float32`.\"\"\"\n",
        "  return tf.cast(image, tf.float32) / 255., label\n",
        "\n",
        "ds_train = ds_train.map(\n",
        "    normalize_img, num_parallel_calls=tf.data.AUTOTUNE)\n",
        "ds_train = ds_train.cache()\n",
        "ds_train = ds_train.shuffle(ds_info.splits['train'].num_examples)\n",
        "ds_train = ds_train.batch(128)\n",
        "ds_train = ds_train.prefetch(tf.data.AUTOTUNE)\n",
        "\n",
        "ds_test = ds_test.map(\n",
        "    normalize_img, num_parallel_calls=tf.data.AUTOTUNE)\n",
        "ds_test = ds_test.batch(128)\n",
        "ds_test = ds_test.cache()\n",
        "ds_test = ds_test.prefetch(tf.data.AUTOTUNE)"
      ],
      "metadata": {
        "id": "IWqaBoRK6q0u"
      },
      "execution_count": 197,
      "outputs": []
    },
    {
      "cell_type": "code",
      "source": [
        "model = tf.keras.models.Sequential([\n",
        "  tf.keras.layers.Flatten(input_shape=(28, 28)),\n",
        "  tf.keras.layers.Dense(32, activation='sigmoid'),\n",
        "  tf.keras.layers.Dense(32, activation='sigmoid'),\n",
        "  tf.keras.layers.Dense(10)\n",
        "])\n",
        "model.compile(\n",
        "    optimizer=tf.keras.optimizers.SGD(0.005),\n",
        "    loss=tf.keras.losses.SparseCategoricalCrossentropy(from_logits=True),\n",
        "    metrics=[tf.keras.metrics.SparseCategoricalAccuracy()],\n",
        ")\n",
        "\n",
        "history = model.fit(\n",
        "    ds_train,\n",
        "    batch_size=256,\n",
        "    epochs=100,\n",
        "    validation_data=ds_test,\n",
        ")"
      ],
      "metadata": {
        "colab": {
          "base_uri": "https://localhost:8080/"
        },
        "id": "DSShY35E6G3v",
        "outputId": "01b0423c-735a-47c9-be89-bb405a7e09d6"
      },
      "execution_count": 223,
      "outputs": [
        {
          "output_type": "stream",
          "name": "stdout",
          "text": [
            "Epoch 1/100\n",
            "469/469 [==============================] - 2s 3ms/step - loss: 2.3305 - sparse_categorical_accuracy: 0.1701 - val_loss: 2.2863 - val_sparse_categorical_accuracy: 0.2279\n",
            "Epoch 2/100\n",
            "469/469 [==============================] - 2s 4ms/step - loss: 2.2789 - sparse_categorical_accuracy: 0.2109 - val_loss: 2.2707 - val_sparse_categorical_accuracy: 0.1535\n",
            "Epoch 3/100\n",
            "469/469 [==============================] - 1s 3ms/step - loss: 2.2645 - sparse_categorical_accuracy: 0.1928 - val_loss: 2.2559 - val_sparse_categorical_accuracy: 0.2541\n",
            "Epoch 4/100\n",
            "469/469 [==============================] - 1s 3ms/step - loss: 2.2494 - sparse_categorical_accuracy: 0.2848 - val_loss: 2.2400 - val_sparse_categorical_accuracy: 0.3115\n",
            "Epoch 5/100\n",
            "469/469 [==============================] - 1s 3ms/step - loss: 2.2329 - sparse_categorical_accuracy: 0.3497 - val_loss: 2.2222 - val_sparse_categorical_accuracy: 0.3624\n",
            "Epoch 6/100\n",
            "469/469 [==============================] - 1s 3ms/step - loss: 2.2143 - sparse_categorical_accuracy: 0.3831 - val_loss: 2.2023 - val_sparse_categorical_accuracy: 0.4425\n",
            "Epoch 7/100\n",
            "469/469 [==============================] - 2s 3ms/step - loss: 2.1933 - sparse_categorical_accuracy: 0.4364 - val_loss: 2.1795 - val_sparse_categorical_accuracy: 0.4733\n",
            "Epoch 8/100\n",
            "469/469 [==============================] - 1s 3ms/step - loss: 2.1691 - sparse_categorical_accuracy: 0.4656 - val_loss: 2.1532 - val_sparse_categorical_accuracy: 0.4929\n",
            "Epoch 9/100\n",
            "469/469 [==============================] - 1s 3ms/step - loss: 2.1412 - sparse_categorical_accuracy: 0.4879 - val_loss: 2.1229 - val_sparse_categorical_accuracy: 0.5202\n",
            "Epoch 10/100\n",
            "469/469 [==============================] - 2s 5ms/step - loss: 2.1090 - sparse_categorical_accuracy: 0.5143 - val_loss: 2.0878 - val_sparse_categorical_accuracy: 0.5380\n",
            "Epoch 11/100\n",
            "469/469 [==============================] - 4s 8ms/step - loss: 2.0719 - sparse_categorical_accuracy: 0.5240 - val_loss: 2.0478 - val_sparse_categorical_accuracy: 0.5651\n",
            "Epoch 12/100\n",
            "469/469 [==============================] - 2s 5ms/step - loss: 2.0297 - sparse_categorical_accuracy: 0.5521 - val_loss: 2.0023 - val_sparse_categorical_accuracy: 0.5686\n",
            "Epoch 13/100\n",
            "469/469 [==============================] - 2s 4ms/step - loss: 1.9822 - sparse_categorical_accuracy: 0.5640 - val_loss: 1.9518 - val_sparse_categorical_accuracy: 0.5770\n",
            "Epoch 14/100\n",
            "469/469 [==============================] - 1s 3ms/step - loss: 1.9295 - sparse_categorical_accuracy: 0.5692 - val_loss: 1.8962 - val_sparse_categorical_accuracy: 0.6003\n",
            "Epoch 15/100\n",
            "469/469 [==============================] - 2s 4ms/step - loss: 1.8724 - sparse_categorical_accuracy: 0.5889 - val_loss: 1.8365 - val_sparse_categorical_accuracy: 0.6020\n",
            "Epoch 16/100\n",
            "469/469 [==============================] - 1s 3ms/step - loss: 1.8116 - sparse_categorical_accuracy: 0.5946 - val_loss: 1.7738 - val_sparse_categorical_accuracy: 0.6130\n",
            "Epoch 17/100\n",
            "469/469 [==============================] - 2s 4ms/step - loss: 1.7483 - sparse_categorical_accuracy: 0.6071 - val_loss: 1.7093 - val_sparse_categorical_accuracy: 0.6197\n",
            "Epoch 18/100\n",
            "469/469 [==============================] - 2s 4ms/step - loss: 1.6837 - sparse_categorical_accuracy: 0.6153 - val_loss: 1.6442 - val_sparse_categorical_accuracy: 0.6312\n",
            "Epoch 19/100\n",
            "469/469 [==============================] - 2s 4ms/step - loss: 1.6191 - sparse_categorical_accuracy: 0.6271 - val_loss: 1.5796 - val_sparse_categorical_accuracy: 0.6398\n",
            "Epoch 20/100\n",
            "469/469 [==============================] - 2s 5ms/step - loss: 1.5555 - sparse_categorical_accuracy: 0.6385 - val_loss: 1.5164 - val_sparse_categorical_accuracy: 0.6506\n",
            "Epoch 21/100\n",
            "469/469 [==============================] - 2s 3ms/step - loss: 1.4938 - sparse_categorical_accuracy: 0.6480 - val_loss: 1.4554 - val_sparse_categorical_accuracy: 0.6664\n",
            "Epoch 22/100\n",
            "469/469 [==============================] - 3s 5ms/step - loss: 1.4343 - sparse_categorical_accuracy: 0.6643 - val_loss: 1.3971 - val_sparse_categorical_accuracy: 0.6758\n",
            "Epoch 23/100\n",
            "469/469 [==============================] - 2s 4ms/step - loss: 1.3775 - sparse_categorical_accuracy: 0.6745 - val_loss: 1.3415 - val_sparse_categorical_accuracy: 0.6930\n",
            "Epoch 24/100\n",
            "469/469 [==============================] - 2s 4ms/step - loss: 1.3236 - sparse_categorical_accuracy: 0.6905 - val_loss: 1.2888 - val_sparse_categorical_accuracy: 0.7004\n",
            "Epoch 25/100\n",
            "469/469 [==============================] - 2s 4ms/step - loss: 1.2727 - sparse_categorical_accuracy: 0.7007 - val_loss: 1.2391 - val_sparse_categorical_accuracy: 0.7145\n",
            "Epoch 26/100\n",
            "469/469 [==============================] - 2s 5ms/step - loss: 1.2246 - sparse_categorical_accuracy: 0.7128 - val_loss: 1.1923 - val_sparse_categorical_accuracy: 0.7233\n",
            "Epoch 27/100\n",
            "469/469 [==============================] - 2s 5ms/step - loss: 1.1793 - sparse_categorical_accuracy: 0.7218 - val_loss: 1.1481 - val_sparse_categorical_accuracy: 0.7352\n",
            "Epoch 28/100\n",
            "469/469 [==============================] - 2s 4ms/step - loss: 1.1367 - sparse_categorical_accuracy: 0.7326 - val_loss: 1.1067 - val_sparse_categorical_accuracy: 0.7430\n",
            "Epoch 29/100\n",
            "469/469 [==============================] - 2s 4ms/step - loss: 1.0968 - sparse_categorical_accuracy: 0.7408 - val_loss: 1.0675 - val_sparse_categorical_accuracy: 0.7522\n",
            "Epoch 30/100\n",
            "469/469 [==============================] - 1s 3ms/step - loss: 1.0591 - sparse_categorical_accuracy: 0.7489 - val_loss: 1.0308 - val_sparse_categorical_accuracy: 0.7593\n",
            "Epoch 31/100\n",
            "469/469 [==============================] - 1s 3ms/step - loss: 1.0238 - sparse_categorical_accuracy: 0.7562 - val_loss: 0.9962 - val_sparse_categorical_accuracy: 0.7664\n",
            "Epoch 32/100\n",
            "469/469 [==============================] - 2s 3ms/step - loss: 0.9905 - sparse_categorical_accuracy: 0.7640 - val_loss: 0.9637 - val_sparse_categorical_accuracy: 0.7737\n",
            "Epoch 33/100\n",
            "469/469 [==============================] - 1s 3ms/step - loss: 0.9593 - sparse_categorical_accuracy: 0.7697 - val_loss: 0.9331 - val_sparse_categorical_accuracy: 0.7813\n",
            "Epoch 34/100\n",
            "469/469 [==============================] - 1s 3ms/step - loss: 0.9299 - sparse_categorical_accuracy: 0.7763 - val_loss: 0.9044 - val_sparse_categorical_accuracy: 0.7877\n",
            "Epoch 35/100\n",
            "469/469 [==============================] - 1s 3ms/step - loss: 0.9023 - sparse_categorical_accuracy: 0.7828 - val_loss: 0.8773 - val_sparse_categorical_accuracy: 0.7935\n",
            "Epoch 36/100\n",
            "469/469 [==============================] - 1s 3ms/step - loss: 0.8764 - sparse_categorical_accuracy: 0.7875 - val_loss: 0.8519 - val_sparse_categorical_accuracy: 0.7979\n",
            "Epoch 37/100\n",
            "469/469 [==============================] - 1s 3ms/step - loss: 0.8520 - sparse_categorical_accuracy: 0.7924 - val_loss: 0.8280 - val_sparse_categorical_accuracy: 0.8052\n",
            "Epoch 38/100\n",
            "469/469 [==============================] - 2s 4ms/step - loss: 0.8290 - sparse_categorical_accuracy: 0.7978 - val_loss: 0.8054 - val_sparse_categorical_accuracy: 0.8098\n",
            "Epoch 39/100\n",
            "469/469 [==============================] - 1s 3ms/step - loss: 0.8074 - sparse_categorical_accuracy: 0.8028 - val_loss: 0.7842 - val_sparse_categorical_accuracy: 0.8132\n",
            "Epoch 40/100\n",
            "469/469 [==============================] - 1s 3ms/step - loss: 0.7871 - sparse_categorical_accuracy: 0.8072 - val_loss: 0.7642 - val_sparse_categorical_accuracy: 0.8176\n",
            "Epoch 41/100\n",
            "469/469 [==============================] - 1s 2ms/step - loss: 0.7679 - sparse_categorical_accuracy: 0.8108 - val_loss: 0.7454 - val_sparse_categorical_accuracy: 0.8221\n",
            "Epoch 42/100\n",
            "469/469 [==============================] - 1s 3ms/step - loss: 0.7498 - sparse_categorical_accuracy: 0.8155 - val_loss: 0.7277 - val_sparse_categorical_accuracy: 0.8273\n",
            "Epoch 43/100\n",
            "469/469 [==============================] - 2s 3ms/step - loss: 0.7327 - sparse_categorical_accuracy: 0.8200 - val_loss: 0.7108 - val_sparse_categorical_accuracy: 0.8311\n",
            "Epoch 44/100\n",
            "469/469 [==============================] - 1s 3ms/step - loss: 0.7166 - sparse_categorical_accuracy: 0.8236 - val_loss: 0.6949 - val_sparse_categorical_accuracy: 0.8347\n",
            "Epoch 45/100\n",
            "469/469 [==============================] - 1s 3ms/step - loss: 0.7012 - sparse_categorical_accuracy: 0.8267 - val_loss: 0.6799 - val_sparse_categorical_accuracy: 0.8375\n",
            "Epoch 46/100\n",
            "469/469 [==============================] - 1s 3ms/step - loss: 0.6867 - sparse_categorical_accuracy: 0.8303 - val_loss: 0.6656 - val_sparse_categorical_accuracy: 0.8404\n",
            "Epoch 47/100\n",
            "469/469 [==============================] - 2s 4ms/step - loss: 0.6730 - sparse_categorical_accuracy: 0.8332 - val_loss: 0.6521 - val_sparse_categorical_accuracy: 0.8428\n",
            "Epoch 48/100\n",
            "469/469 [==============================] - 1s 3ms/step - loss: 0.6599 - sparse_categorical_accuracy: 0.8366 - val_loss: 0.6392 - val_sparse_categorical_accuracy: 0.8455\n",
            "Epoch 49/100\n",
            "469/469 [==============================] - 2s 4ms/step - loss: 0.6475 - sparse_categorical_accuracy: 0.8391 - val_loss: 0.6270 - val_sparse_categorical_accuracy: 0.8479\n",
            "Epoch 50/100\n",
            "469/469 [==============================] - 1s 3ms/step - loss: 0.6357 - sparse_categorical_accuracy: 0.8416 - val_loss: 0.6154 - val_sparse_categorical_accuracy: 0.8505\n",
            "Epoch 51/100\n",
            "469/469 [==============================] - 1s 3ms/step - loss: 0.6244 - sparse_categorical_accuracy: 0.8440 - val_loss: 0.6044 - val_sparse_categorical_accuracy: 0.8527\n",
            "Epoch 52/100\n",
            "469/469 [==============================] - 1s 2ms/step - loss: 0.6136 - sparse_categorical_accuracy: 0.8467 - val_loss: 0.5938 - val_sparse_categorical_accuracy: 0.8552\n",
            "Epoch 53/100\n",
            "469/469 [==============================] - 1s 3ms/step - loss: 0.6034 - sparse_categorical_accuracy: 0.8489 - val_loss: 0.5837 - val_sparse_categorical_accuracy: 0.8569\n",
            "Epoch 54/100\n",
            "469/469 [==============================] - 1s 3ms/step - loss: 0.5936 - sparse_categorical_accuracy: 0.8512 - val_loss: 0.5741 - val_sparse_categorical_accuracy: 0.8578\n",
            "Epoch 55/100\n",
            "469/469 [==============================] - 1s 3ms/step - loss: 0.5843 - sparse_categorical_accuracy: 0.8531 - val_loss: 0.5649 - val_sparse_categorical_accuracy: 0.8599\n",
            "Epoch 56/100\n",
            "469/469 [==============================] - 1s 3ms/step - loss: 0.5753 - sparse_categorical_accuracy: 0.8551 - val_loss: 0.5561 - val_sparse_categorical_accuracy: 0.8623\n",
            "Epoch 57/100\n",
            "469/469 [==============================] - 1s 3ms/step - loss: 0.5667 - sparse_categorical_accuracy: 0.8571 - val_loss: 0.5477 - val_sparse_categorical_accuracy: 0.8646\n",
            "Epoch 58/100\n",
            "469/469 [==============================] - 1s 3ms/step - loss: 0.5585 - sparse_categorical_accuracy: 0.8587 - val_loss: 0.5397 - val_sparse_categorical_accuracy: 0.8655\n",
            "Epoch 59/100\n",
            "469/469 [==============================] - 1s 3ms/step - loss: 0.5506 - sparse_categorical_accuracy: 0.8604 - val_loss: 0.5319 - val_sparse_categorical_accuracy: 0.8671\n",
            "Epoch 60/100\n",
            "469/469 [==============================] - 1s 3ms/step - loss: 0.5430 - sparse_categorical_accuracy: 0.8619 - val_loss: 0.5246 - val_sparse_categorical_accuracy: 0.8685\n",
            "Epoch 61/100\n",
            "469/469 [==============================] - 3s 6ms/step - loss: 0.5358 - sparse_categorical_accuracy: 0.8636 - val_loss: 0.5175 - val_sparse_categorical_accuracy: 0.8701\n",
            "Epoch 62/100\n",
            "469/469 [==============================] - 1s 3ms/step - loss: 0.5288 - sparse_categorical_accuracy: 0.8651 - val_loss: 0.5106 - val_sparse_categorical_accuracy: 0.8711\n",
            "Epoch 63/100\n",
            "469/469 [==============================] - 1s 3ms/step - loss: 0.5221 - sparse_categorical_accuracy: 0.8665 - val_loss: 0.5041 - val_sparse_categorical_accuracy: 0.8717\n",
            "Epoch 64/100\n",
            "469/469 [==============================] - 1s 3ms/step - loss: 0.5156 - sparse_categorical_accuracy: 0.8683 - val_loss: 0.4978 - val_sparse_categorical_accuracy: 0.8730\n",
            "Epoch 65/100\n",
            "469/469 [==============================] - 1s 3ms/step - loss: 0.5094 - sparse_categorical_accuracy: 0.8696 - val_loss: 0.4918 - val_sparse_categorical_accuracy: 0.8739\n",
            "Epoch 66/100\n",
            "469/469 [==============================] - 1s 3ms/step - loss: 0.5033 - sparse_categorical_accuracy: 0.8705 - val_loss: 0.4860 - val_sparse_categorical_accuracy: 0.8756\n",
            "Epoch 67/100\n",
            "469/469 [==============================] - 1s 3ms/step - loss: 0.4976 - sparse_categorical_accuracy: 0.8720 - val_loss: 0.4803 - val_sparse_categorical_accuracy: 0.8769\n",
            "Epoch 68/100\n",
            "469/469 [==============================] - 1s 3ms/step - loss: 0.4920 - sparse_categorical_accuracy: 0.8729 - val_loss: 0.4749 - val_sparse_categorical_accuracy: 0.8781\n",
            "Epoch 69/100\n",
            "469/469 [==============================] - 1s 3ms/step - loss: 0.4866 - sparse_categorical_accuracy: 0.8742 - val_loss: 0.4696 - val_sparse_categorical_accuracy: 0.8789\n",
            "Epoch 70/100\n",
            "469/469 [==============================] - 1s 3ms/step - loss: 0.4813 - sparse_categorical_accuracy: 0.8756 - val_loss: 0.4645 - val_sparse_categorical_accuracy: 0.8796\n",
            "Epoch 71/100\n",
            "469/469 [==============================] - 1s 3ms/step - loss: 0.4763 - sparse_categorical_accuracy: 0.8767 - val_loss: 0.4597 - val_sparse_categorical_accuracy: 0.8800\n",
            "Epoch 72/100\n",
            "469/469 [==============================] - 1s 3ms/step - loss: 0.4714 - sparse_categorical_accuracy: 0.8779 - val_loss: 0.4549 - val_sparse_categorical_accuracy: 0.8818\n",
            "Epoch 73/100\n",
            "469/469 [==============================] - 1s 3ms/step - loss: 0.4667 - sparse_categorical_accuracy: 0.8790 - val_loss: 0.4504 - val_sparse_categorical_accuracy: 0.8822\n",
            "Epoch 74/100\n",
            "469/469 [==============================] - 1s 3ms/step - loss: 0.4621 - sparse_categorical_accuracy: 0.8801 - val_loss: 0.4461 - val_sparse_categorical_accuracy: 0.8835\n",
            "Epoch 75/100\n",
            "469/469 [==============================] - 1s 3ms/step - loss: 0.4576 - sparse_categorical_accuracy: 0.8811 - val_loss: 0.4418 - val_sparse_categorical_accuracy: 0.8839\n",
            "Epoch 76/100\n",
            "469/469 [==============================] - 1s 3ms/step - loss: 0.4534 - sparse_categorical_accuracy: 0.8817 - val_loss: 0.4377 - val_sparse_categorical_accuracy: 0.8841\n",
            "Epoch 77/100\n",
            "469/469 [==============================] - 1s 3ms/step - loss: 0.4492 - sparse_categorical_accuracy: 0.8824 - val_loss: 0.4336 - val_sparse_categorical_accuracy: 0.8851\n",
            "Epoch 78/100\n",
            "469/469 [==============================] - 2s 4ms/step - loss: 0.4451 - sparse_categorical_accuracy: 0.8835 - val_loss: 0.4298 - val_sparse_categorical_accuracy: 0.8854\n",
            "Epoch 79/100\n",
            "469/469 [==============================] - 1s 3ms/step - loss: 0.4412 - sparse_categorical_accuracy: 0.8842 - val_loss: 0.4262 - val_sparse_categorical_accuracy: 0.8867\n",
            "Epoch 80/100\n",
            "469/469 [==============================] - 1s 3ms/step - loss: 0.4374 - sparse_categorical_accuracy: 0.8849 - val_loss: 0.4225 - val_sparse_categorical_accuracy: 0.8871\n",
            "Epoch 81/100\n",
            "469/469 [==============================] - 1s 3ms/step - loss: 0.4338 - sparse_categorical_accuracy: 0.8859 - val_loss: 0.4190 - val_sparse_categorical_accuracy: 0.8879\n",
            "Epoch 82/100\n",
            "469/469 [==============================] - 3s 5ms/step - loss: 0.4302 - sparse_categorical_accuracy: 0.8866 - val_loss: 0.4156 - val_sparse_categorical_accuracy: 0.8890\n",
            "Epoch 83/100\n",
            "469/469 [==============================] - 1s 3ms/step - loss: 0.4267 - sparse_categorical_accuracy: 0.8873 - val_loss: 0.4123 - val_sparse_categorical_accuracy: 0.8891\n",
            "Epoch 84/100\n",
            "469/469 [==============================] - 1s 3ms/step - loss: 0.4233 - sparse_categorical_accuracy: 0.8880 - val_loss: 0.4091 - val_sparse_categorical_accuracy: 0.8899\n",
            "Epoch 85/100\n",
            "469/469 [==============================] - 1s 3ms/step - loss: 0.4200 - sparse_categorical_accuracy: 0.8889 - val_loss: 0.4061 - val_sparse_categorical_accuracy: 0.8905\n",
            "Epoch 86/100\n",
            "469/469 [==============================] - 1s 3ms/step - loss: 0.4168 - sparse_categorical_accuracy: 0.8895 - val_loss: 0.4030 - val_sparse_categorical_accuracy: 0.8914\n",
            "Epoch 87/100\n",
            "469/469 [==============================] - 1s 3ms/step - loss: 0.4137 - sparse_categorical_accuracy: 0.8903 - val_loss: 0.4000 - val_sparse_categorical_accuracy: 0.8922\n",
            "Epoch 88/100\n",
            "469/469 [==============================] - 1s 3ms/step - loss: 0.4106 - sparse_categorical_accuracy: 0.8910 - val_loss: 0.3972 - val_sparse_categorical_accuracy: 0.8922\n",
            "Epoch 89/100\n",
            "469/469 [==============================] - 1s 3ms/step - loss: 0.4077 - sparse_categorical_accuracy: 0.8916 - val_loss: 0.3945 - val_sparse_categorical_accuracy: 0.8927\n",
            "Epoch 90/100\n",
            "469/469 [==============================] - 1s 3ms/step - loss: 0.4048 - sparse_categorical_accuracy: 0.8924 - val_loss: 0.3917 - val_sparse_categorical_accuracy: 0.8931\n",
            "Epoch 91/100\n",
            "469/469 [==============================] - 1s 3ms/step - loss: 0.4020 - sparse_categorical_accuracy: 0.8930 - val_loss: 0.3891 - val_sparse_categorical_accuracy: 0.8942\n",
            "Epoch 92/100\n",
            "469/469 [==============================] - 1s 3ms/step - loss: 0.3993 - sparse_categorical_accuracy: 0.8935 - val_loss: 0.3865 - val_sparse_categorical_accuracy: 0.8950\n",
            "Epoch 93/100\n",
            "469/469 [==============================] - 2s 3ms/step - loss: 0.3966 - sparse_categorical_accuracy: 0.8939 - val_loss: 0.3840 - val_sparse_categorical_accuracy: 0.8955\n",
            "Epoch 94/100\n",
            "469/469 [==============================] - 2s 4ms/step - loss: 0.3940 - sparse_categorical_accuracy: 0.8946 - val_loss: 0.3816 - val_sparse_categorical_accuracy: 0.8955\n",
            "Epoch 95/100\n",
            "469/469 [==============================] - 1s 3ms/step - loss: 0.3914 - sparse_categorical_accuracy: 0.8947 - val_loss: 0.3792 - val_sparse_categorical_accuracy: 0.8968\n",
            "Epoch 96/100\n",
            "469/469 [==============================] - 1s 3ms/step - loss: 0.3890 - sparse_categorical_accuracy: 0.8953 - val_loss: 0.3769 - val_sparse_categorical_accuracy: 0.8975\n",
            "Epoch 97/100\n",
            "469/469 [==============================] - 1s 3ms/step - loss: 0.3865 - sparse_categorical_accuracy: 0.8960 - val_loss: 0.3747 - val_sparse_categorical_accuracy: 0.8977\n",
            "Epoch 98/100\n",
            "469/469 [==============================] - 1s 3ms/step - loss: 0.3842 - sparse_categorical_accuracy: 0.8962 - val_loss: 0.3725 - val_sparse_categorical_accuracy: 0.8994\n",
            "Epoch 99/100\n",
            "469/469 [==============================] - 1s 3ms/step - loss: 0.3819 - sparse_categorical_accuracy: 0.8971 - val_loss: 0.3703 - val_sparse_categorical_accuracy: 0.8993\n",
            "Epoch 100/100\n",
            "469/469 [==============================] - 1s 3ms/step - loss: 0.3796 - sparse_categorical_accuracy: 0.8975 - val_loss: 0.3683 - val_sparse_categorical_accuracy: 0.9005\n"
          ]
        }
      ]
    },
    {
      "cell_type": "code",
      "source": [
        "model.evaluate(ds_test)"
      ],
      "metadata": {
        "colab": {
          "base_uri": "https://localhost:8080/"
        },
        "id": "ll_LyGCX6jjl",
        "outputId": "f785e298-86c7-4dce-998a-ce7f9a9488c2"
      },
      "execution_count": 224,
      "outputs": [
        {
          "output_type": "stream",
          "name": "stdout",
          "text": [
            "79/79 [==============================] - 0s 2ms/step - loss: 0.3683 - sparse_categorical_accuracy: 0.9005\n"
          ]
        },
        {
          "output_type": "execute_result",
          "data": {
            "text/plain": [
              "[0.3682970404624939, 0.9004999995231628]"
            ]
          },
          "metadata": {},
          "execution_count": 224
        }
      ]
    },
    {
      "cell_type": "code",
      "source": [
        "plt.plot(range(100),history.history['sparse_categorical_accuracy'])"
      ],
      "metadata": {
        "colab": {
          "base_uri": "https://localhost:8080/",
          "height": 282
        },
        "id": "WrU2neJb7-aa",
        "outputId": "4510192d-a24f-4d0c-9f10-8b180193fdc5"
      },
      "execution_count": 227,
      "outputs": [
        {
          "output_type": "execute_result",
          "data": {
            "text/plain": [
              "[<matplotlib.lines.Line2D at 0x7fb83676afa0>]"
            ]
          },
          "metadata": {},
          "execution_count": 227
        },
        {
          "output_type": "display_data",
          "data": {
            "text/plain": [
              "<Figure size 432x288 with 1 Axes>"
            ],
            "image/png": "[encoded data removed]"
          },
          "metadata": {
            "needs_background": "light"
          }
        }
      ]
    },
    {
      "cell_type": "markdown",
      "source": [
        "###Different initial weights\n",
        "a) zeros"
      ],
      "metadata": {
        "id": "W_KHDUI-_iMV"
      }
    },
    {
      "cell_type": "code",
      "source": [
        "initializer = tf.keras.initializers.Zeros()\n",
        "model = tf.keras.models.Sequential([\n",
        "  tf.keras.layers.Flatten(input_shape=(28, 28)),\n",
        "  tf.keras.layers.Dense(32, activation='sigmoid', kernel_initializer=initializer),\n",
        "  tf.keras.layers.Dense(32, activation='sigmoid', kernel_initializer=initializer),\n",
        "  tf.keras.layers.Dense(10, kernel_initializer=initializer)\n",
        "])\n",
        "model.compile(\n",
        "    optimizer=tf.keras.optimizers.SGD(0.005),\n",
        "    loss=tf.keras.losses.SparseCategoricalCrossentropy(from_logits=True),\n",
        "    metrics=[tf.keras.metrics.SparseCategoricalAccuracy()],\n",
        ")\n",
        "\n",
        "history = model.fit(\n",
        "    ds_train,\n",
        "    batch_size=256,\n",
        "    epochs=20,\n",
        "    validation_data=ds_test,\n",
        ")"
      ],
      "metadata": {
        "colab": {
          "base_uri": "https://localhost:8080/"
        },
        "id": "SWiuj_-t_gNq",
        "outputId": "04fa364c-0d58-4ed5-c912-1b73cc180eab"
      },
      "execution_count": 242,
      "outputs": [
        {
          "output_type": "stream",
          "name": "stdout",
          "text": [
            "Epoch 1/20\n",
            "469/469 [==============================] - 2s 3ms/step - loss: 2.3016 - sparse_categorical_accuracy: 0.1123 - val_loss: 2.3011 - val_sparse_categorical_accuracy: 0.1135\n",
            "Epoch 2/20\n",
            "469/469 [==============================] - 1s 3ms/step - loss: 2.3013 - sparse_categorical_accuracy: 0.1124 - val_loss: 2.3011 - val_sparse_categorical_accuracy: 0.1135\n",
            "Epoch 3/20\n",
            "469/469 [==============================] - 2s 3ms/step - loss: 2.3013 - sparse_categorical_accuracy: 0.1124 - val_loss: 2.3010 - val_sparse_categorical_accuracy: 0.1135\n",
            "Epoch 4/20\n",
            "469/469 [==============================] - 1s 3ms/step - loss: 2.3013 - sparse_categorical_accuracy: 0.1124 - val_loss: 2.3010 - val_sparse_categorical_accuracy: 0.1135\n",
            "Epoch 5/20\n",
            "469/469 [==============================] - 1s 3ms/step - loss: 2.3013 - sparse_categorical_accuracy: 0.1124 - val_loss: 2.3011 - val_sparse_categorical_accuracy: 0.1135\n",
            "Epoch 6/20\n",
            "469/469 [==============================] - 1s 3ms/step - loss: 2.3013 - sparse_categorical_accuracy: 0.1124 - val_loss: 2.3010 - val_sparse_categorical_accuracy: 0.1135\n",
            "Epoch 7/20\n",
            "469/469 [==============================] - 1s 3ms/step - loss: 2.3013 - sparse_categorical_accuracy: 0.1124 - val_loss: 2.3011 - val_sparse_categorical_accuracy: 0.1135\n",
            "Epoch 8/20\n",
            "469/469 [==============================] - 1s 3ms/step - loss: 2.3013 - sparse_categorical_accuracy: 0.1124 - val_loss: 2.3011 - val_sparse_categorical_accuracy: 0.1135\n",
            "Epoch 9/20\n",
            "469/469 [==============================] - 1s 3ms/step - loss: 2.3013 - sparse_categorical_accuracy: 0.1124 - val_loss: 2.3010 - val_sparse_categorical_accuracy: 0.1135\n",
            "Epoch 10/20\n",
            "469/469 [==============================] - 1s 3ms/step - loss: 2.3013 - sparse_categorical_accuracy: 0.1124 - val_loss: 2.3011 - val_sparse_categorical_accuracy: 0.1135\n",
            "Epoch 11/20\n",
            "469/469 [==============================] - 1s 2ms/step - loss: 2.3013 - sparse_categorical_accuracy: 0.1124 - val_loss: 2.3011 - val_sparse_categorical_accuracy: 0.1135\n",
            "Epoch 12/20\n",
            "469/469 [==============================] - 1s 3ms/step - loss: 2.3013 - sparse_categorical_accuracy: 0.1124 - val_loss: 2.3010 - val_sparse_categorical_accuracy: 0.1135\n",
            "Epoch 13/20\n",
            "469/469 [==============================] - 1s 3ms/step - loss: 2.3013 - sparse_categorical_accuracy: 0.1124 - val_loss: 2.3010 - val_sparse_categorical_accuracy: 0.1135\n",
            "Epoch 14/20\n",
            "469/469 [==============================] - 2s 3ms/step - loss: 2.3013 - sparse_categorical_accuracy: 0.1124 - val_loss: 2.3010 - val_sparse_categorical_accuracy: 0.1135\n",
            "Epoch 15/20\n",
            "469/469 [==============================] - 1s 3ms/step - loss: 2.3013 - sparse_categorical_accuracy: 0.1124 - val_loss: 2.3010 - val_sparse_categorical_accuracy: 0.1135\n",
            "Epoch 16/20\n",
            "469/469 [==============================] - 1s 3ms/step - loss: 2.3013 - sparse_categorical_accuracy: 0.1124 - val_loss: 2.3010 - val_sparse_categorical_accuracy: 0.1135\n",
            "Epoch 17/20\n",
            "469/469 [==============================] - 1s 3ms/step - loss: 2.3013 - sparse_categorical_accuracy: 0.1124 - val_loss: 2.3011 - val_sparse_categorical_accuracy: 0.1135\n",
            "Epoch 18/20\n",
            "469/469 [==============================] - 1s 3ms/step - loss: 2.3013 - sparse_categorical_accuracy: 0.1124 - val_loss: 2.3010 - val_sparse_categorical_accuracy: 0.1135\n",
            "Epoch 19/20\n",
            "469/469 [==============================] - 1s 3ms/step - loss: 2.3013 - sparse_categorical_accuracy: 0.1124 - val_loss: 2.3011 - val_sparse_categorical_accuracy: 0.1135\n",
            "Epoch 20/20\n",
            "469/469 [==============================] - 2s 3ms/step - loss: 2.3013 - sparse_categorical_accuracy: 0.1124 - val_loss: 2.3010 - val_sparse_categorical_accuracy: 0.1135\n"
          ]
        }
      ]
    },
    {
      "cell_type": "code",
      "source": [
        "model.evaluate(ds_test)"
      ],
      "metadata": {
        "colab": {
          "base_uri": "https://localhost:8080/"
        },
        "id": "5JPih4kW-dib",
        "outputId": "11131bd4-781f-4ca1-da6c-4abb3ca9a1f6"
      },
      "execution_count": 243,
      "outputs": [
        {
          "output_type": "stream",
          "name": "stdout",
          "text": [
            "79/79 [==============================] - 0s 1ms/step - loss: 2.3010 - sparse_categorical_accuracy: 0.1135\n"
          ]
        },
        {
          "output_type": "execute_result",
          "data": {
            "text/plain": [
              "[2.3010120391845703, 0.11349999904632568]"
            ]
          },
          "metadata": {},
          "execution_count": 243
        }
      ]
    },
    {
      "cell_type": "code",
      "source": [
        "plt.plot(range(20),history.history['sparse_categorical_accuracy'])\n",
        "plt.title(\"zeros initilizer\")"
      ],
      "metadata": {
        "colab": {
          "base_uri": "https://localhost:8080/",
          "height": 298
        },
        "id": "6-NLnJnHB8fw",
        "outputId": "c0004ffd-d3a9-4d58-e25f-60aaff0ce527"
      },
      "execution_count": 245,
      "outputs": [
        {
          "output_type": "execute_result",
          "data": {
            "text/plain": [
              "Text(0.5, 1.0, 'zeros initilizer')"
            ]
          },
          "metadata": {},
          "execution_count": 245
        },
        {
          "output_type": "display_data",
          "data": {
            "text/plain": [
              "<Figure size 432x288 with 1 Axes>"
            ],
            "image/png": "[encoded data removed]"
          },
          "metadata": {
            "needs_background": "light"
          }
        }
      ]
    },
    {
      "cell_type": "code",
      "source": [
        "initializer = tf.keras.initializers.RandomUniform(minval=-1, maxval=1.)\n",
        "model = tf.keras.models.Sequential([\n",
        "  tf.keras.layers.Flatten(input_shape=(28, 28)),\n",
        "  tf.keras.layers.Dense(32, activation='sigmoid', kernel_initializer=initializer),\n",
        "  tf.keras.layers.Dense(32, activation='sigmoid', kernel_initializer=initializer),\n",
        "  tf.keras.layers.Dense(10, kernel_initializer=initializer)\n",
        "])\n",
        "model.compile(\n",
        "    optimizer=tf.keras.optimizers.SGD(0.005),\n",
        "    loss=tf.keras.losses.SparseCategoricalCrossentropy(from_logits=True),\n",
        "    metrics=[tf.keras.metrics.SparseCategoricalAccuracy()],\n",
        ")\n",
        "\n",
        "history = model.fit(\n",
        "    ds_train,\n",
        "    batch_size=256,\n",
        "    epochs=100,\n",
        "    validation_data=ds_test,\n",
        ")"
      ],
      "metadata": {
        "colab": {
          "base_uri": "https://localhost:8080/"
        },
        "id": "J15MkFWuB-je",
        "outputId": "12642fde-17a4-4aa3-e275-dfcfb20b876b"
      },
      "execution_count": 237,
      "outputs": [
        {
          "output_type": "stream",
          "name": "stdout",
          "text": [
            "Epoch 1/100\n",
            "469/469 [==============================] - 2s 3ms/step - loss: 2.5668 - sparse_categorical_accuracy: 0.1624 - val_loss: 2.1342 - val_sparse_categorical_accuracy: 0.2198\n",
            "Epoch 2/100\n",
            "469/469 [==============================] - 1s 3ms/step - loss: 2.0812 - sparse_categorical_accuracy: 0.2583 - val_loss: 2.0123 - val_sparse_categorical_accuracy: 0.3137\n",
            "Epoch 3/100\n",
            "469/469 [==============================] - 1s 3ms/step - loss: 1.9718 - sparse_categorical_accuracy: 0.3359 - val_loss: 1.9096 - val_sparse_categorical_accuracy: 0.3756\n",
            "Epoch 4/100\n",
            "469/469 [==============================] - 2s 4ms/step - loss: 1.8763 - sparse_categorical_accuracy: 0.3907 - val_loss: 1.8191 - val_sparse_categorical_accuracy: 0.4220\n",
            "Epoch 5/100\n",
            "469/469 [==============================] - 1s 3ms/step - loss: 1.7913 - sparse_categorical_accuracy: 0.4305 - val_loss: 1.7382 - val_sparse_categorical_accuracy: 0.4569\n",
            "Epoch 6/100\n",
            "469/469 [==============================] - 1s 3ms/step - loss: 1.7149 - sparse_categorical_accuracy: 0.4608 - val_loss: 1.6653 - val_sparse_categorical_accuracy: 0.4844\n",
            "Epoch 7/100\n",
            "469/469 [==============================] - 1s 3ms/step - loss: 1.6458 - sparse_categorical_accuracy: 0.4875 - val_loss: 1.5991 - val_sparse_categorical_accuracy: 0.5080\n",
            "Epoch 8/100\n",
            "469/469 [==============================] - 1s 3ms/step - loss: 1.5829 - sparse_categorical_accuracy: 0.5094 - val_loss: 1.5385 - val_sparse_categorical_accuracy: 0.5296\n",
            "Epoch 9/100\n",
            "469/469 [==============================] - 2s 3ms/step - loss: 1.5257 - sparse_categorical_accuracy: 0.5290 - val_loss: 1.4831 - val_sparse_categorical_accuracy: 0.5496\n",
            "Epoch 10/100\n",
            "469/469 [==============================] - 1s 3ms/step - loss: 1.4733 - sparse_categorical_accuracy: 0.5462 - val_loss: 1.4326 - val_sparse_categorical_accuracy: 0.5667\n",
            "Epoch 11/100\n",
            "469/469 [==============================] - 1s 3ms/step - loss: 1.4255 - sparse_categorical_accuracy: 0.5625 - val_loss: 1.3863 - val_sparse_categorical_accuracy: 0.5805\n",
            "Epoch 12/100\n",
            "469/469 [==============================] - 1s 3ms/step - loss: 1.3815 - sparse_categorical_accuracy: 0.5757 - val_loss: 1.3439 - val_sparse_categorical_accuracy: 0.5916\n",
            "Epoch 13/100\n",
            "469/469 [==============================] - 1s 3ms/step - loss: 1.3411 - sparse_categorical_accuracy: 0.5892 - val_loss: 1.3047 - val_sparse_categorical_accuracy: 0.6035\n",
            "Epoch 14/100\n",
            "469/469 [==============================] - 1s 3ms/step - loss: 1.3038 - sparse_categorical_accuracy: 0.6012 - val_loss: 1.2683 - val_sparse_categorical_accuracy: 0.6151\n",
            "Epoch 15/100\n",
            "469/469 [==============================] - 1s 3ms/step - loss: 1.2692 - sparse_categorical_accuracy: 0.6129 - val_loss: 1.2346 - val_sparse_categorical_accuracy: 0.6255\n",
            "Epoch 16/100\n",
            "469/469 [==============================] - 1s 3ms/step - loss: 1.2369 - sparse_categorical_accuracy: 0.6228 - val_loss: 1.2032 - val_sparse_categorical_accuracy: 0.6338\n",
            "Epoch 17/100\n",
            "469/469 [==============================] - 1s 2ms/step - loss: 1.2067 - sparse_categorical_accuracy: 0.6320 - val_loss: 1.1736 - val_sparse_categorical_accuracy: 0.6421\n",
            "Epoch 18/100\n",
            "469/469 [==============================] - 1s 3ms/step - loss: 1.1783 - sparse_categorical_accuracy: 0.6413 - val_loss: 1.1459 - val_sparse_categorical_accuracy: 0.6513\n",
            "Epoch 19/100\n",
            "469/469 [==============================] - 1s 3ms/step - loss: 1.1516 - sparse_categorical_accuracy: 0.6493 - val_loss: 1.1194 - val_sparse_categorical_accuracy: 0.6582\n",
            "Epoch 20/100\n",
            "469/469 [==============================] - 2s 4ms/step - loss: 1.1263 - sparse_categorical_accuracy: 0.6579 - val_loss: 1.0946 - val_sparse_categorical_accuracy: 0.6657\n",
            "Epoch 21/100\n",
            "469/469 [==============================] - 1s 3ms/step - loss: 1.1023 - sparse_categorical_accuracy: 0.6650 - val_loss: 1.0712 - val_sparse_categorical_accuracy: 0.6735\n",
            "Epoch 22/100\n",
            "469/469 [==============================] - 1s 2ms/step - loss: 1.0795 - sparse_categorical_accuracy: 0.6719 - val_loss: 1.0485 - val_sparse_categorical_accuracy: 0.6802\n",
            "Epoch 23/100\n",
            "469/469 [==============================] - 1s 3ms/step - loss: 1.0578 - sparse_categorical_accuracy: 0.6789 - val_loss: 1.0274 - val_sparse_categorical_accuracy: 0.6880\n",
            "Epoch 24/100\n",
            "469/469 [==============================] - 2s 3ms/step - loss: 1.0372 - sparse_categorical_accuracy: 0.6853 - val_loss: 1.0071 - val_sparse_categorical_accuracy: 0.6949\n",
            "Epoch 25/100\n",
            "469/469 [==============================] - 1s 3ms/step - loss: 1.0175 - sparse_categorical_accuracy: 0.6919 - val_loss: 0.9877 - val_sparse_categorical_accuracy: 0.7005\n",
            "Epoch 26/100\n",
            "469/469 [==============================] - 1s 3ms/step - loss: 0.9986 - sparse_categorical_accuracy: 0.6978 - val_loss: 0.9689 - val_sparse_categorical_accuracy: 0.7063\n",
            "Epoch 27/100\n",
            "469/469 [==============================] - 1s 3ms/step - loss: 0.9806 - sparse_categorical_accuracy: 0.7033 - val_loss: 0.9512 - val_sparse_categorical_accuracy: 0.7113\n",
            "Epoch 28/100\n",
            "469/469 [==============================] - 1s 2ms/step - loss: 0.9633 - sparse_categorical_accuracy: 0.7085 - val_loss: 0.9343 - val_sparse_categorical_accuracy: 0.7166\n",
            "Epoch 29/100\n",
            "469/469 [==============================] - 1s 3ms/step - loss: 0.9468 - sparse_categorical_accuracy: 0.7134 - val_loss: 0.9181 - val_sparse_categorical_accuracy: 0.7209\n",
            "Epoch 30/100\n",
            "469/469 [==============================] - 1s 3ms/step - loss: 0.9309 - sparse_categorical_accuracy: 0.7177 - val_loss: 0.9025 - val_sparse_categorical_accuracy: 0.7260\n",
            "Epoch 31/100\n",
            "469/469 [==============================] - 1s 3ms/step - loss: 0.9156 - sparse_categorical_accuracy: 0.7225 - val_loss: 0.8874 - val_sparse_categorical_accuracy: 0.7297\n",
            "Epoch 32/100\n",
            "469/469 [==============================] - 2s 4ms/step - loss: 0.9009 - sparse_categorical_accuracy: 0.7267 - val_loss: 0.8729 - val_sparse_categorical_accuracy: 0.7335\n",
            "Epoch 33/100\n",
            "469/469 [==============================] - 1s 3ms/step - loss: 0.8868 - sparse_categorical_accuracy: 0.7307 - val_loss: 0.8591 - val_sparse_categorical_accuracy: 0.7382\n",
            "Epoch 34/100\n",
            "469/469 [==============================] - 1s 3ms/step - loss: 0.8732 - sparse_categorical_accuracy: 0.7350 - val_loss: 0.8458 - val_sparse_categorical_accuracy: 0.7418\n",
            "Epoch 35/100\n",
            "469/469 [==============================] - 1s 2ms/step - loss: 0.8602 - sparse_categorical_accuracy: 0.7388 - val_loss: 0.8331 - val_sparse_categorical_accuracy: 0.7462\n",
            "Epoch 36/100\n",
            "469/469 [==============================] - 1s 3ms/step - loss: 0.8476 - sparse_categorical_accuracy: 0.7423 - val_loss: 0.8208 - val_sparse_categorical_accuracy: 0.7502\n",
            "Epoch 37/100\n",
            "469/469 [==============================] - 1s 3ms/step - loss: 0.8354 - sparse_categorical_accuracy: 0.7459 - val_loss: 0.8090 - val_sparse_categorical_accuracy: 0.7541\n",
            "Epoch 38/100\n",
            "469/469 [==============================] - 2s 4ms/step - loss: 0.8237 - sparse_categorical_accuracy: 0.7496 - val_loss: 0.7975 - val_sparse_categorical_accuracy: 0.7592\n",
            "Epoch 39/100\n",
            "469/469 [==============================] - 1s 3ms/step - loss: 0.8124 - sparse_categorical_accuracy: 0.7531 - val_loss: 0.7865 - val_sparse_categorical_accuracy: 0.7626\n",
            "Epoch 40/100\n",
            "469/469 [==============================] - 1s 3ms/step - loss: 0.8014 - sparse_categorical_accuracy: 0.7562 - val_loss: 0.7757 - val_sparse_categorical_accuracy: 0.7651\n",
            "Epoch 41/100\n",
            "469/469 [==============================] - 1s 3ms/step - loss: 0.7908 - sparse_categorical_accuracy: 0.7601 - val_loss: 0.7656 - val_sparse_categorical_accuracy: 0.7679\n",
            "Epoch 42/100\n",
            "469/469 [==============================] - 1s 3ms/step - loss: 0.7806 - sparse_categorical_accuracy: 0.7628 - val_loss: 0.7555 - val_sparse_categorical_accuracy: 0.7707\n",
            "Epoch 43/100\n",
            "469/469 [==============================] - 1s 3ms/step - loss: 0.7707 - sparse_categorical_accuracy: 0.7658 - val_loss: 0.7458 - val_sparse_categorical_accuracy: 0.7735\n",
            "Epoch 44/100\n",
            "469/469 [==============================] - 1s 3ms/step - loss: 0.7611 - sparse_categorical_accuracy: 0.7689 - val_loss: 0.7365 - val_sparse_categorical_accuracy: 0.7779\n",
            "Epoch 45/100\n",
            "469/469 [==============================] - 1s 3ms/step - loss: 0.7519 - sparse_categorical_accuracy: 0.7715 - val_loss: 0.7277 - val_sparse_categorical_accuracy: 0.7803\n",
            "Epoch 46/100\n",
            "469/469 [==============================] - 1s 3ms/step - loss: 0.7429 - sparse_categorical_accuracy: 0.7738 - val_loss: 0.7189 - val_sparse_categorical_accuracy: 0.7839\n",
            "Epoch 47/100\n",
            "469/469 [==============================] - 1s 3ms/step - loss: 0.7342 - sparse_categorical_accuracy: 0.7773 - val_loss: 0.7104 - val_sparse_categorical_accuracy: 0.7871\n",
            "Epoch 48/100\n",
            "469/469 [==============================] - 1s 3ms/step - loss: 0.7257 - sparse_categorical_accuracy: 0.7800 - val_loss: 0.7023 - val_sparse_categorical_accuracy: 0.7899\n",
            "Epoch 49/100\n",
            "469/469 [==============================] - 1s 2ms/step - loss: 0.7175 - sparse_categorical_accuracy: 0.7824 - val_loss: 0.6944 - val_sparse_categorical_accuracy: 0.7924\n",
            "Epoch 50/100\n",
            "469/469 [==============================] - 1s 3ms/step - loss: 0.7096 - sparse_categorical_accuracy: 0.7851 - val_loss: 0.6867 - val_sparse_categorical_accuracy: 0.7947\n",
            "Epoch 51/100\n",
            "469/469 [==============================] - 1s 3ms/step - loss: 0.7018 - sparse_categorical_accuracy: 0.7878 - val_loss: 0.6793 - val_sparse_categorical_accuracy: 0.7972\n",
            "Epoch 52/100\n",
            "469/469 [==============================] - 2s 3ms/step - loss: 0.6944 - sparse_categorical_accuracy: 0.7901 - val_loss: 0.6720 - val_sparse_categorical_accuracy: 0.7999\n",
            "Epoch 53/100\n",
            "469/469 [==============================] - 1s 3ms/step - loss: 0.6871 - sparse_categorical_accuracy: 0.7923 - val_loss: 0.6649 - val_sparse_categorical_accuracy: 0.8023\n",
            "Epoch 54/100\n",
            "469/469 [==============================] - 2s 4ms/step - loss: 0.6800 - sparse_categorical_accuracy: 0.7947 - val_loss: 0.6581 - val_sparse_categorical_accuracy: 0.8039\n",
            "Epoch 55/100\n",
            "469/469 [==============================] - 1s 3ms/step - loss: 0.6731 - sparse_categorical_accuracy: 0.7972 - val_loss: 0.6515 - val_sparse_categorical_accuracy: 0.8057\n",
            "Epoch 56/100\n",
            "469/469 [==============================] - 1s 3ms/step - loss: 0.6664 - sparse_categorical_accuracy: 0.7993 - val_loss: 0.6451 - val_sparse_categorical_accuracy: 0.8085\n",
            "Epoch 57/100\n",
            "469/469 [==============================] - 1s 3ms/step - loss: 0.6600 - sparse_categorical_accuracy: 0.8016 - val_loss: 0.6388 - val_sparse_categorical_accuracy: 0.8101\n",
            "Epoch 58/100\n",
            "469/469 [==============================] - 1s 3ms/step - loss: 0.6536 - sparse_categorical_accuracy: 0.8037 - val_loss: 0.6327 - val_sparse_categorical_accuracy: 0.8122\n",
            "Epoch 59/100\n",
            "469/469 [==============================] - 1s 3ms/step - loss: 0.6475 - sparse_categorical_accuracy: 0.8061 - val_loss: 0.6269 - val_sparse_categorical_accuracy: 0.8133\n",
            "Epoch 60/100\n",
            "469/469 [==============================] - 1s 3ms/step - loss: 0.6415 - sparse_categorical_accuracy: 0.8075 - val_loss: 0.6211 - val_sparse_categorical_accuracy: 0.8151\n",
            "Epoch 61/100\n",
            "469/469 [==============================] - 2s 4ms/step - loss: 0.6357 - sparse_categorical_accuracy: 0.8090 - val_loss: 0.6155 - val_sparse_categorical_accuracy: 0.8158\n",
            "Epoch 62/100\n",
            "469/469 [==============================] - 1s 3ms/step - loss: 0.6300 - sparse_categorical_accuracy: 0.8106 - val_loss: 0.6101 - val_sparse_categorical_accuracy: 0.8179\n",
            "Epoch 63/100\n",
            "469/469 [==============================] - 1s 3ms/step - loss: 0.6245 - sparse_categorical_accuracy: 0.8123 - val_loss: 0.6047 - val_sparse_categorical_accuracy: 0.8194\n",
            "Epoch 64/100\n",
            "469/469 [==============================] - 2s 3ms/step - loss: 0.6192 - sparse_categorical_accuracy: 0.8145 - val_loss: 0.5995 - val_sparse_categorical_accuracy: 0.8209\n",
            "Epoch 65/100\n",
            "469/469 [==============================] - 1s 3ms/step - loss: 0.6139 - sparse_categorical_accuracy: 0.8159 - val_loss: 0.5945 - val_sparse_categorical_accuracy: 0.8229\n",
            "Epoch 66/100\n",
            "469/469 [==============================] - 2s 3ms/step - loss: 0.6088 - sparse_categorical_accuracy: 0.8173 - val_loss: 0.5896 - val_sparse_categorical_accuracy: 0.8235\n",
            "Epoch 67/100\n",
            "469/469 [==============================] - 2s 3ms/step - loss: 0.6039 - sparse_categorical_accuracy: 0.8188 - val_loss: 0.5849 - val_sparse_categorical_accuracy: 0.8261\n",
            "Epoch 68/100\n",
            "469/469 [==============================] - 1s 3ms/step - loss: 0.5990 - sparse_categorical_accuracy: 0.8202 - val_loss: 0.5803 - val_sparse_categorical_accuracy: 0.8278\n",
            "Epoch 69/100\n",
            "469/469 [==============================] - 1s 3ms/step - loss: 0.5943 - sparse_categorical_accuracy: 0.8213 - val_loss: 0.5757 - val_sparse_categorical_accuracy: 0.8296\n",
            "Epoch 70/100\n",
            "469/469 [==============================] - 1s 3ms/step - loss: 0.5897 - sparse_categorical_accuracy: 0.8229 - val_loss: 0.5713 - val_sparse_categorical_accuracy: 0.8315\n",
            "Epoch 71/100\n",
            "469/469 [==============================] - 1s 3ms/step - loss: 0.5852 - sparse_categorical_accuracy: 0.8241 - val_loss: 0.5670 - val_sparse_categorical_accuracy: 0.8331\n",
            "Epoch 72/100\n",
            "469/469 [==============================] - 2s 3ms/step - loss: 0.5808 - sparse_categorical_accuracy: 0.8253 - val_loss: 0.5628 - val_sparse_categorical_accuracy: 0.8344\n",
            "Epoch 73/100\n",
            "469/469 [==============================] - 1s 3ms/step - loss: 0.5765 - sparse_categorical_accuracy: 0.8268 - val_loss: 0.5587 - val_sparse_categorical_accuracy: 0.8353\n",
            "Epoch 74/100\n",
            "469/469 [==============================] - 1s 3ms/step - loss: 0.5724 - sparse_categorical_accuracy: 0.8281 - val_loss: 0.5547 - val_sparse_categorical_accuracy: 0.8369\n",
            "Epoch 75/100\n",
            "469/469 [==============================] - 1s 3ms/step - loss: 0.5683 - sparse_categorical_accuracy: 0.8292 - val_loss: 0.5508 - val_sparse_categorical_accuracy: 0.8381\n",
            "Epoch 76/100\n",
            "469/469 [==============================] - 1s 3ms/step - loss: 0.5643 - sparse_categorical_accuracy: 0.8307 - val_loss: 0.5471 - val_sparse_categorical_accuracy: 0.8393\n",
            "Epoch 77/100\n",
            "469/469 [==============================] - 1s 3ms/step - loss: 0.5604 - sparse_categorical_accuracy: 0.8317 - val_loss: 0.5434 - val_sparse_categorical_accuracy: 0.8401\n",
            "Epoch 78/100\n",
            "469/469 [==============================] - 1s 2ms/step - loss: 0.5566 - sparse_categorical_accuracy: 0.8333 - val_loss: 0.5397 - val_sparse_categorical_accuracy: 0.8410\n",
            "Epoch 79/100\n",
            "469/469 [==============================] - 1s 3ms/step - loss: 0.5528 - sparse_categorical_accuracy: 0.8343 - val_loss: 0.5362 - val_sparse_categorical_accuracy: 0.8414\n",
            "Epoch 80/100\n",
            "469/469 [==============================] - 1s 3ms/step - loss: 0.5492 - sparse_categorical_accuracy: 0.8356 - val_loss: 0.5328 - val_sparse_categorical_accuracy: 0.8431\n",
            "Epoch 81/100\n",
            "469/469 [==============================] - 1s 3ms/step - loss: 0.5456 - sparse_categorical_accuracy: 0.8367 - val_loss: 0.5293 - val_sparse_categorical_accuracy: 0.8444\n",
            "Epoch 82/100\n",
            "469/469 [==============================] - 2s 4ms/step - loss: 0.5422 - sparse_categorical_accuracy: 0.8378 - val_loss: 0.5260 - val_sparse_categorical_accuracy: 0.8461\n",
            "Epoch 83/100\n",
            "469/469 [==============================] - 1s 3ms/step - loss: 0.5388 - sparse_categorical_accuracy: 0.8382 - val_loss: 0.5227 - val_sparse_categorical_accuracy: 0.8467\n",
            "Epoch 84/100\n",
            "469/469 [==============================] - 1s 3ms/step - loss: 0.5354 - sparse_categorical_accuracy: 0.8392 - val_loss: 0.5196 - val_sparse_categorical_accuracy: 0.8478\n",
            "Epoch 85/100\n",
            "469/469 [==============================] - 1s 3ms/step - loss: 0.5322 - sparse_categorical_accuracy: 0.8401 - val_loss: 0.5165 - val_sparse_categorical_accuracy: 0.8483\n",
            "Epoch 86/100\n",
            "469/469 [==============================] - 1s 3ms/step - loss: 0.5290 - sparse_categorical_accuracy: 0.8411 - val_loss: 0.5134 - val_sparse_categorical_accuracy: 0.8488\n",
            "Epoch 87/100\n",
            "469/469 [==============================] - 1s 2ms/step - loss: 0.5258 - sparse_categorical_accuracy: 0.8422 - val_loss: 0.5105 - val_sparse_categorical_accuracy: 0.8501\n",
            "Epoch 88/100\n",
            "469/469 [==============================] - 2s 3ms/step - loss: 0.5228 - sparse_categorical_accuracy: 0.8432 - val_loss: 0.5075 - val_sparse_categorical_accuracy: 0.8514\n",
            "Epoch 89/100\n",
            "469/469 [==============================] - 2s 3ms/step - loss: 0.5197 - sparse_categorical_accuracy: 0.8440 - val_loss: 0.5046 - val_sparse_categorical_accuracy: 0.8524\n",
            "Epoch 90/100\n",
            "469/469 [==============================] - 1s 3ms/step - loss: 0.5168 - sparse_categorical_accuracy: 0.8452 - val_loss: 0.5018 - val_sparse_categorical_accuracy: 0.8529\n",
            "Epoch 91/100\n",
            "469/469 [==============================] - 1s 3ms/step - loss: 0.5139 - sparse_categorical_accuracy: 0.8459 - val_loss: 0.4991 - val_sparse_categorical_accuracy: 0.8533\n",
            "Epoch 92/100\n",
            "469/469 [==============================] - 1s 3ms/step - loss: 0.5111 - sparse_categorical_accuracy: 0.8466 - val_loss: 0.4964 - val_sparse_categorical_accuracy: 0.8539\n",
            "Epoch 93/100\n",
            "469/469 [==============================] - 1s 3ms/step - loss: 0.5083 - sparse_categorical_accuracy: 0.8478 - val_loss: 0.4937 - val_sparse_categorical_accuracy: 0.8554\n",
            "Epoch 94/100\n",
            "469/469 [==============================] - 2s 4ms/step - loss: 0.5055 - sparse_categorical_accuracy: 0.8485 - val_loss: 0.4912 - val_sparse_categorical_accuracy: 0.8554\n",
            "Epoch 95/100\n",
            "469/469 [==============================] - 2s 3ms/step - loss: 0.5029 - sparse_categorical_accuracy: 0.8492 - val_loss: 0.4887 - val_sparse_categorical_accuracy: 0.8561\n",
            "Epoch 96/100\n",
            "469/469 [==============================] - 1s 3ms/step - loss: 0.5002 - sparse_categorical_accuracy: 0.8501 - val_loss: 0.4862 - val_sparse_categorical_accuracy: 0.8571\n",
            "Epoch 97/100\n",
            "469/469 [==============================] - 1s 3ms/step - loss: 0.4977 - sparse_categorical_accuracy: 0.8508 - val_loss: 0.4837 - val_sparse_categorical_accuracy: 0.8572\n",
            "Epoch 98/100\n",
            "469/469 [==============================] - 1s 3ms/step - loss: 0.4951 - sparse_categorical_accuracy: 0.8516 - val_loss: 0.4813 - val_sparse_categorical_accuracy: 0.8582\n",
            "Epoch 99/100\n",
            "469/469 [==============================] - 1s 3ms/step - loss: 0.4926 - sparse_categorical_accuracy: 0.8524 - val_loss: 0.4790 - val_sparse_categorical_accuracy: 0.8593\n",
            "Epoch 100/100\n",
            "469/469 [==============================] - 2s 4ms/step - loss: 0.4902 - sparse_categorical_accuracy: 0.8532 - val_loss: 0.4766 - val_sparse_categorical_accuracy: 0.8595\n"
          ]
        }
      ]
    },
    {
      "cell_type": "code",
      "source": [
        "model.evaluate(ds_test)"
      ],
      "metadata": {
        "colab": {
          "base_uri": "https://localhost:8080/"
        },
        "id": "Ucb_uVpyCPEN",
        "outputId": "b8305629-e276-47b5-f943-ee157ed124cf"
      },
      "execution_count": 241,
      "outputs": [
        {
          "output_type": "stream",
          "name": "stdout",
          "text": [
            "79/79 [==============================] - 0s 2ms/step - loss: 0.4766 - sparse_categorical_accuracy: 0.8595\n"
          ]
        },
        {
          "output_type": "execute_result",
          "data": {
            "text/plain": [
              "[0.47660279273986816, 0.859499990940094]"
            ]
          },
          "metadata": {},
          "execution_count": 241
        }
      ]
    },
    {
      "cell_type": "code",
      "source": [
        "plt.plot(range(100), history.history['sparse_categorical_accuracy'])\n",
        "plt.title(\"uniform initilizer\")"
      ],
      "metadata": {
        "colab": {
          "base_uri": "https://localhost:8080/",
          "height": 298
        },
        "id": "yV7x1KqwCpsn",
        "outputId": "972e6c14-ad93-4e0f-8522-da382a8af675"
      },
      "execution_count": 240,
      "outputs": [
        {
          "output_type": "execute_result",
          "data": {
            "text/plain": [
              "Text(0.5, 1.0, 'uniform initilizer')"
            ]
          },
          "metadata": {},
          "execution_count": 240
        },
        {
          "output_type": "display_data",
          "data": {
            "text/plain": [
              "<Figure size 432x288 with 1 Axes>"
            ],
            "image/png": "[encoded data removed]"
          },
          "metadata": {
            "needs_background": "light"
          }
        }
      ]
    },
    {
      "cell_type": "code",
      "source": [],
      "metadata": {
        "id": "ISmZZSQkEPLF"
      },
      "execution_count": null,
      "outputs": []
    }
  ],
  "metadata": {
    "colab": {
      "provenance": []
    },
    "kernelspec": {
      "display_name": "Python 3",
      "name": "python3"
    },
    "language_info": {
      "name": "python"
    }
  },
  "nbformat": 4,
  "nbformat_minor": 0
}